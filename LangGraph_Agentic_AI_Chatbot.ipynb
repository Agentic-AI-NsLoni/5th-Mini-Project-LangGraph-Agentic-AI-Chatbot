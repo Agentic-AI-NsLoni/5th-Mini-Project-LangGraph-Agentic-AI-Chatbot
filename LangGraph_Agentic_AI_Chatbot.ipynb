{
 "cells": [
  {
   "cell_type": "code",
   "execution_count": 3,
   "id": "139915ee",
   "metadata": {},
   "outputs": [
    {
     "name": "stdout",
     "output_type": "stream",
     "text": [
      "Defaulting to user installation because normal site-packages is not writeable\n",
      "Collecting langchain_community\n",
      "  Using cached langchain_community-0.3.22-py3-none-any.whl.metadata (2.4 kB)\n",
      "Requirement already satisfied: langchain-core<1.0.0,>=0.3.55 in c:\\users\\nagar\\appdata\\roaming\\python\\python312\\site-packages (from langchain_community) (0.3.56)\n",
      "Collecting langchain<1.0.0,>=0.3.24 (from langchain_community)\n",
      "  Using cached langchain-0.3.24-py3-none-any.whl.metadata (7.8 kB)\n",
      "Requirement already satisfied: SQLAlchemy<3,>=1.4 in c:\\programdata\\anaconda3\\lib\\site-packages (from langchain_community) (2.0.34)\n",
      "Requirement already satisfied: requests<3,>=2 in c:\\programdata\\anaconda3\\lib\\site-packages (from langchain_community) (2.32.3)\n",
      "Requirement already satisfied: PyYAML>=5.3 in c:\\programdata\\anaconda3\\lib\\site-packages (from langchain_community) (6.0.1)\n",
      "Requirement already satisfied: aiohttp<4.0.0,>=3.8.3 in c:\\programdata\\anaconda3\\lib\\site-packages (from langchain_community) (3.10.5)\n",
      "Requirement already satisfied: tenacity!=8.4.0,<10,>=8.1.0 in c:\\programdata\\anaconda3\\lib\\site-packages (from langchain_community) (8.2.3)\n",
      "Collecting dataclasses-json<0.7,>=0.5.7 (from langchain_community)\n",
      "  Using cached dataclasses_json-0.6.7-py3-none-any.whl.metadata (25 kB)\n",
      "Collecting pydantic-settings<3.0.0,>=2.4.0 (from langchain_community)\n",
      "  Using cached pydantic_settings-2.9.1-py3-none-any.whl.metadata (3.8 kB)\n",
      "Requirement already satisfied: langsmith<0.4,>=0.1.125 in c:\\users\\nagar\\appdata\\roaming\\python\\python312\\site-packages (from langchain_community) (0.2.6)\n",
      "Collecting httpx-sse<1.0.0,>=0.4.0 (from langchain_community)\n",
      "  Using cached httpx_sse-0.4.0-py3-none-any.whl.metadata (9.0 kB)\n",
      "Requirement already satisfied: numpy>=1.26.2 in c:\\programdata\\anaconda3\\lib\\site-packages (from langchain_community) (1.26.4)\n",
      "Requirement already satisfied: aiohappyeyeballs>=2.3.0 in c:\\programdata\\anaconda3\\lib\\site-packages (from aiohttp<4.0.0,>=3.8.3->langchain_community) (2.4.0)\n",
      "Requirement already satisfied: aiosignal>=1.1.2 in c:\\programdata\\anaconda3\\lib\\site-packages (from aiohttp<4.0.0,>=3.8.3->langchain_community) (1.2.0)\n",
      "Requirement already satisfied: attrs>=17.3.0 in c:\\programdata\\anaconda3\\lib\\site-packages (from aiohttp<4.0.0,>=3.8.3->langchain_community) (23.1.0)\n",
      "Requirement already satisfied: frozenlist>=1.1.1 in c:\\programdata\\anaconda3\\lib\\site-packages (from aiohttp<4.0.0,>=3.8.3->langchain_community) (1.4.0)\n",
      "Requirement already satisfied: multidict<7.0,>=4.5 in c:\\programdata\\anaconda3\\lib\\site-packages (from aiohttp<4.0.0,>=3.8.3->langchain_community) (6.0.4)\n",
      "Requirement already satisfied: yarl<2.0,>=1.0 in c:\\programdata\\anaconda3\\lib\\site-packages (from aiohttp<4.0.0,>=3.8.3->langchain_community) (1.11.0)\n",
      "Collecting marshmallow<4.0.0,>=3.18.0 (from dataclasses-json<0.7,>=0.5.7->langchain_community)\n",
      "  Using cached marshmallow-3.26.1-py3-none-any.whl.metadata (7.3 kB)\n",
      "Collecting typing-inspect<1,>=0.4.0 (from dataclasses-json<0.7,>=0.5.7->langchain_community)\n",
      "  Using cached typing_inspect-0.9.0-py3-none-any.whl.metadata (1.5 kB)\n",
      "Collecting langchain-text-splitters<1.0.0,>=0.3.8 (from langchain<1.0.0,>=0.3.24->langchain_community)\n",
      "  Using cached langchain_text_splitters-0.3.8-py3-none-any.whl.metadata (1.9 kB)\n",
      "Requirement already satisfied: pydantic<3.0.0,>=2.7.4 in c:\\programdata\\anaconda3\\lib\\site-packages (from langchain<1.0.0,>=0.3.24->langchain_community) (2.8.2)\n",
      "Requirement already satisfied: jsonpatch<2.0,>=1.33 in c:\\programdata\\anaconda3\\lib\\site-packages (from langchain-core<1.0.0,>=0.3.55->langchain_community) (1.33)\n",
      "Requirement already satisfied: packaging<25,>=23.2 in c:\\programdata\\anaconda3\\lib\\site-packages (from langchain-core<1.0.0,>=0.3.55->langchain_community) (24.1)\n",
      "Requirement already satisfied: typing-extensions>=4.7 in c:\\programdata\\anaconda3\\lib\\site-packages (from langchain-core<1.0.0,>=0.3.55->langchain_community) (4.11.0)\n",
      "Requirement already satisfied: httpx<1,>=0.23.0 in c:\\programdata\\anaconda3\\lib\\site-packages (from langsmith<0.4,>=0.1.125->langchain_community) (0.27.0)\n",
      "Requirement already satisfied: orjson<4.0.0,>=3.9.14 in c:\\users\\nagar\\appdata\\roaming\\python\\python312\\site-packages (from langsmith<0.4,>=0.1.125->langchain_community) (3.10.12)\n",
      "Requirement already satisfied: requests-toolbelt<2.0.0,>=1.0.0 in c:\\programdata\\anaconda3\\lib\\site-packages (from langsmith<0.4,>=0.1.125->langchain_community) (1.0.0)\n",
      "Requirement already satisfied: python-dotenv>=0.21.0 in c:\\programdata\\anaconda3\\lib\\site-packages (from pydantic-settings<3.0.0,>=2.4.0->langchain_community) (0.21.0)\n",
      "Collecting typing-inspection>=0.4.0 (from pydantic-settings<3.0.0,>=2.4.0->langchain_community)\n",
      "  Using cached typing_inspection-0.4.0-py3-none-any.whl.metadata (2.6 kB)\n",
      "Requirement already satisfied: charset-normalizer<4,>=2 in c:\\programdata\\anaconda3\\lib\\site-packages (from requests<3,>=2->langchain_community) (3.3.2)\n",
      "Requirement already satisfied: idna<4,>=2.5 in c:\\programdata\\anaconda3\\lib\\site-packages (from requests<3,>=2->langchain_community) (3.7)\n",
      "Requirement already satisfied: urllib3<3,>=1.21.1 in c:\\programdata\\anaconda3\\lib\\site-packages (from requests<3,>=2->langchain_community) (2.2.3)\n",
      "Requirement already satisfied: certifi>=2017.4.17 in c:\\programdata\\anaconda3\\lib\\site-packages (from requests<3,>=2->langchain_community) (2024.8.30)\n",
      "Requirement already satisfied: greenlet!=0.4.17 in c:\\programdata\\anaconda3\\lib\\site-packages (from SQLAlchemy<3,>=1.4->langchain_community) (3.0.1)\n",
      "Requirement already satisfied: anyio in c:\\programdata\\anaconda3\\lib\\site-packages (from httpx<1,>=0.23.0->langsmith<0.4,>=0.1.125->langchain_community) (4.2.0)\n",
      "Requirement already satisfied: httpcore==1.* in c:\\programdata\\anaconda3\\lib\\site-packages (from httpx<1,>=0.23.0->langsmith<0.4,>=0.1.125->langchain_community) (1.0.2)\n",
      "Requirement already satisfied: sniffio in c:\\programdata\\anaconda3\\lib\\site-packages (from httpx<1,>=0.23.0->langsmith<0.4,>=0.1.125->langchain_community) (1.3.0)\n",
      "Requirement already satisfied: h11<0.15,>=0.13 in c:\\programdata\\anaconda3\\lib\\site-packages (from httpcore==1.*->httpx<1,>=0.23.0->langsmith<0.4,>=0.1.125->langchain_community) (0.14.0)\n",
      "Requirement already satisfied: jsonpointer>=1.9 in c:\\programdata\\anaconda3\\lib\\site-packages (from jsonpatch<2.0,>=1.33->langchain-core<1.0.0,>=0.3.55->langchain_community) (2.1)\n",
      "Requirement already satisfied: annotated-types>=0.4.0 in c:\\programdata\\anaconda3\\lib\\site-packages (from pydantic<3.0.0,>=2.7.4->langchain<1.0.0,>=0.3.24->langchain_community) (0.6.0)\n",
      "Requirement already satisfied: pydantic-core==2.20.1 in c:\\programdata\\anaconda3\\lib\\site-packages (from pydantic<3.0.0,>=2.7.4->langchain<1.0.0,>=0.3.24->langchain_community) (2.20.1)\n",
      "Requirement already satisfied: mypy-extensions>=0.3.0 in c:\\programdata\\anaconda3\\lib\\site-packages (from typing-inspect<1,>=0.4.0->dataclasses-json<0.7,>=0.5.7->langchain_community) (1.0.0)\n",
      "Collecting typing-extensions>=4.7 (from langchain-core<1.0.0,>=0.3.55->langchain_community)\n",
      "  Using cached typing_extensions-4.13.2-py3-none-any.whl.metadata (3.0 kB)\n",
      "Using cached langchain_community-0.3.22-py3-none-any.whl (2.5 MB)\n",
      "Using cached dataclasses_json-0.6.7-py3-none-any.whl (28 kB)\n",
      "Using cached httpx_sse-0.4.0-py3-none-any.whl (7.8 kB)\n",
      "Using cached langchain-0.3.24-py3-none-any.whl (1.0 MB)\n",
      "Using cached pydantic_settings-2.9.1-py3-none-any.whl (44 kB)\n",
      "Using cached langchain_text_splitters-0.3.8-py3-none-any.whl (32 kB)\n",
      "Using cached marshmallow-3.26.1-py3-none-any.whl (50 kB)\n",
      "Using cached typing_inspect-0.9.0-py3-none-any.whl (8.8 kB)\n",
      "Using cached typing_inspection-0.4.0-py3-none-any.whl (14 kB)\n",
      "Using cached typing_extensions-4.13.2-py3-none-any.whl (45 kB)\n",
      "Installing collected packages: typing-extensions, marshmallow, httpx-sse, typing-inspection, typing-inspect, dataclasses-json, pydantic-settings, langchain-text-splitters, langchain, langchain_community\n",
      "Successfully installed dataclasses-json-0.6.7 httpx-sse-0.4.0 langchain-0.3.24 langchain-text-splitters-0.3.8 langchain_community-0.3.22 marshmallow-3.26.1 pydantic-settings-2.9.1 typing-extensions-4.13.2 typing-inspect-0.9.0 typing-inspection-0.4.0\n",
      "Note: you may need to restart the kernel to use updated packages.\n"
     ]
    }
   ],
   "source": [
    "pip install langchain_community"
   ]
  },
  {
   "cell_type": "code",
   "execution_count": 5,
   "id": "b037beed",
   "metadata": {},
   "outputs": [
    {
     "name": "stdout",
     "output_type": "stream",
     "text": [
      "Defaulting to user installation because normal site-packages is not writeable\n",
      "Requirement already satisfied: pydantic in c:\\programdata\\anaconda3\\lib\\site-packages (2.8.2)\n",
      "Requirement already satisfied: langchain in c:\\users\\nagar\\appdata\\roaming\\python\\python312\\site-packages (0.3.24)\n",
      "Requirement already satisfied: langgraph in c:\\users\\nagar\\appdata\\roaming\\python\\python312\\site-packages (0.3.34)\n",
      "Requirement already satisfied: langchain-core in c:\\users\\nagar\\appdata\\roaming\\python\\python312\\site-packages (0.3.56)\n",
      "Requirement already satisfied: langchain-community in c:\\users\\nagar\\appdata\\roaming\\python\\python312\\site-packages (0.3.22)\n",
      "Requirement already satisfied: python-dotenv in c:\\programdata\\anaconda3\\lib\\site-packages (0.21.0)\n",
      "Collecting langchain-groq\n",
      "  Downloading langchain_groq-0.3.2-py3-none-any.whl.metadata (2.6 kB)\n",
      "Collecting arxiv\n",
      "  Downloading arxiv-2.2.0-py3-none-any.whl.metadata (6.3 kB)\n",
      "Collecting wikipedia\n",
      "  Using cached wikipedia-1.4.0-py3-none-any.whl\n",
      "Requirement already satisfied: annotated-types>=0.4.0 in c:\\programdata\\anaconda3\\lib\\site-packages (from pydantic) (0.6.0)\n",
      "Requirement already satisfied: pydantic-core==2.20.1 in c:\\programdata\\anaconda3\\lib\\site-packages (from pydantic) (2.20.1)\n",
      "Requirement already satisfied: typing-extensions>=4.6.1 in c:\\users\\nagar\\appdata\\roaming\\python\\python312\\site-packages (from pydantic) (4.13.2)\n",
      "Requirement already satisfied: langchain-text-splitters<1.0.0,>=0.3.8 in c:\\users\\nagar\\appdata\\roaming\\python\\python312\\site-packages (from langchain) (0.3.8)\n",
      "Requirement already satisfied: langsmith<0.4,>=0.1.17 in c:\\users\\nagar\\appdata\\roaming\\python\\python312\\site-packages (from langchain) (0.2.6)\n",
      "Requirement already satisfied: SQLAlchemy<3,>=1.4 in c:\\programdata\\anaconda3\\lib\\site-packages (from langchain) (2.0.34)\n",
      "Requirement already satisfied: requests<3,>=2 in c:\\programdata\\anaconda3\\lib\\site-packages (from langchain) (2.32.3)\n",
      "Requirement already satisfied: PyYAML>=5.3 in c:\\programdata\\anaconda3\\lib\\site-packages (from langchain) (6.0.1)\n",
      "Requirement already satisfied: langgraph-checkpoint<3.0.0,>=2.0.10 in c:\\users\\nagar\\appdata\\roaming\\python\\python312\\site-packages (from langgraph) (2.0.24)\n",
      "Requirement already satisfied: langgraph-prebuilt<0.2,>=0.1.8 in c:\\users\\nagar\\appdata\\roaming\\python\\python312\\site-packages (from langgraph) (0.1.8)\n",
      "Requirement already satisfied: langgraph-sdk<0.2.0,>=0.1.42 in c:\\users\\nagar\\appdata\\roaming\\python\\python312\\site-packages (from langgraph) (0.1.63)\n",
      "Requirement already satisfied: xxhash<4.0.0,>=3.5.0 in c:\\users\\nagar\\appdata\\roaming\\python\\python312\\site-packages (from langgraph) (3.5.0)\n",
      "Requirement already satisfied: tenacity!=8.4.0,<10.0.0,>=8.1.0 in c:\\programdata\\anaconda3\\lib\\site-packages (from langchain-core) (8.2.3)\n",
      "Requirement already satisfied: jsonpatch<2.0,>=1.33 in c:\\programdata\\anaconda3\\lib\\site-packages (from langchain-core) (1.33)\n",
      "Requirement already satisfied: packaging<25,>=23.2 in c:\\programdata\\anaconda3\\lib\\site-packages (from langchain-core) (24.1)\n",
      "Requirement already satisfied: aiohttp<4.0.0,>=3.8.3 in c:\\programdata\\anaconda3\\lib\\site-packages (from langchain-community) (3.10.5)\n",
      "Requirement already satisfied: dataclasses-json<0.7,>=0.5.7 in c:\\users\\nagar\\appdata\\roaming\\python\\python312\\site-packages (from langchain-community) (0.6.7)\n",
      "Requirement already satisfied: pydantic-settings<3.0.0,>=2.4.0 in c:\\users\\nagar\\appdata\\roaming\\python\\python312\\site-packages (from langchain-community) (2.9.1)\n",
      "Requirement already satisfied: httpx-sse<1.0.0,>=0.4.0 in c:\\users\\nagar\\appdata\\roaming\\python\\python312\\site-packages (from langchain-community) (0.4.0)\n",
      "Requirement already satisfied: numpy>=1.26.2 in c:\\programdata\\anaconda3\\lib\\site-packages (from langchain-community) (1.26.4)\n",
      "Collecting groq<1,>=0.4.1 (from langchain-groq)\n",
      "  Using cached groq-0.23.1-py3-none-any.whl.metadata (15 kB)\n",
      "Collecting feedparser~=6.0.10 (from arxiv)\n",
      "  Using cached feedparser-6.0.11-py3-none-any.whl.metadata (2.4 kB)\n",
      "Requirement already satisfied: beautifulsoup4 in c:\\programdata\\anaconda3\\lib\\site-packages (from wikipedia) (4.12.3)\n",
      "Requirement already satisfied: aiohappyeyeballs>=2.3.0 in c:\\programdata\\anaconda3\\lib\\site-packages (from aiohttp<4.0.0,>=3.8.3->langchain-community) (2.4.0)\n",
      "Requirement already satisfied: aiosignal>=1.1.2 in c:\\programdata\\anaconda3\\lib\\site-packages (from aiohttp<4.0.0,>=3.8.3->langchain-community) (1.2.0)\n",
      "Requirement already satisfied: attrs>=17.3.0 in c:\\programdata\\anaconda3\\lib\\site-packages (from aiohttp<4.0.0,>=3.8.3->langchain-community) (23.1.0)\n",
      "Requirement already satisfied: frozenlist>=1.1.1 in c:\\programdata\\anaconda3\\lib\\site-packages (from aiohttp<4.0.0,>=3.8.3->langchain-community) (1.4.0)\n",
      "Requirement already satisfied: multidict<7.0,>=4.5 in c:\\programdata\\anaconda3\\lib\\site-packages (from aiohttp<4.0.0,>=3.8.3->langchain-community) (6.0.4)\n",
      "Requirement already satisfied: yarl<2.0,>=1.0 in c:\\programdata\\anaconda3\\lib\\site-packages (from aiohttp<4.0.0,>=3.8.3->langchain-community) (1.11.0)\n",
      "Requirement already satisfied: marshmallow<4.0.0,>=3.18.0 in c:\\users\\nagar\\appdata\\roaming\\python\\python312\\site-packages (from dataclasses-json<0.7,>=0.5.7->langchain-community) (3.26.1)\n",
      "Requirement already satisfied: typing-inspect<1,>=0.4.0 in c:\\users\\nagar\\appdata\\roaming\\python\\python312\\site-packages (from dataclasses-json<0.7,>=0.5.7->langchain-community) (0.9.0)\n",
      "Collecting sgmllib3k (from feedparser~=6.0.10->arxiv)\n",
      "  Using cached sgmllib3k-1.0.0-py3-none-any.whl\n",
      "Requirement already satisfied: anyio<5,>=3.5.0 in c:\\programdata\\anaconda3\\lib\\site-packages (from groq<1,>=0.4.1->langchain-groq) (4.2.0)\n",
      "Requirement already satisfied: distro<2,>=1.7.0 in c:\\programdata\\anaconda3\\lib\\site-packages (from groq<1,>=0.4.1->langchain-groq) (1.9.0)\n",
      "Requirement already satisfied: httpx<1,>=0.23.0 in c:\\programdata\\anaconda3\\lib\\site-packages (from groq<1,>=0.4.1->langchain-groq) (0.27.0)\n",
      "Requirement already satisfied: sniffio in c:\\programdata\\anaconda3\\lib\\site-packages (from groq<1,>=0.4.1->langchain-groq) (1.3.0)\n",
      "Requirement already satisfied: jsonpointer>=1.9 in c:\\programdata\\anaconda3\\lib\\site-packages (from jsonpatch<2.0,>=1.33->langchain-core) (2.1)\n",
      "Requirement already satisfied: ormsgpack<2.0.0,>=1.8.0 in c:\\users\\nagar\\appdata\\roaming\\python\\python312\\site-packages (from langgraph-checkpoint<3.0.0,>=2.0.10->langgraph) (1.9.1)\n",
      "Requirement already satisfied: orjson>=3.10.1 in c:\\users\\nagar\\appdata\\roaming\\python\\python312\\site-packages (from langgraph-sdk<0.2.0,>=0.1.42->langgraph) (3.10.12)\n",
      "Requirement already satisfied: requests-toolbelt<2.0.0,>=1.0.0 in c:\\programdata\\anaconda3\\lib\\site-packages (from langsmith<0.4,>=0.1.17->langchain) (1.0.0)\n",
      "Requirement already satisfied: typing-inspection>=0.4.0 in c:\\users\\nagar\\appdata\\roaming\\python\\python312\\site-packages (from pydantic-settings<3.0.0,>=2.4.0->langchain-community) (0.4.0)\n",
      "Requirement already satisfied: charset-normalizer<4,>=2 in c:\\programdata\\anaconda3\\lib\\site-packages (from requests<3,>=2->langchain) (3.3.2)\n",
      "Requirement already satisfied: idna<4,>=2.5 in c:\\programdata\\anaconda3\\lib\\site-packages (from requests<3,>=2->langchain) (3.7)\n",
      "Requirement already satisfied: urllib3<3,>=1.21.1 in c:\\programdata\\anaconda3\\lib\\site-packages (from requests<3,>=2->langchain) (2.2.3)\n",
      "Requirement already satisfied: certifi>=2017.4.17 in c:\\programdata\\anaconda3\\lib\\site-packages (from requests<3,>=2->langchain) (2024.8.30)\n",
      "Requirement already satisfied: greenlet!=0.4.17 in c:\\programdata\\anaconda3\\lib\\site-packages (from SQLAlchemy<3,>=1.4->langchain) (3.0.1)\n",
      "Requirement already satisfied: soupsieve>1.2 in c:\\programdata\\anaconda3\\lib\\site-packages (from beautifulsoup4->wikipedia) (2.5)\n",
      "Requirement already satisfied: httpcore==1.* in c:\\programdata\\anaconda3\\lib\\site-packages (from httpx<1,>=0.23.0->groq<1,>=0.4.1->langchain-groq) (1.0.2)\n",
      "Requirement already satisfied: h11<0.15,>=0.13 in c:\\programdata\\anaconda3\\lib\\site-packages (from httpcore==1.*->httpx<1,>=0.23.0->groq<1,>=0.4.1->langchain-groq) (0.14.0)\n",
      "Requirement already satisfied: mypy-extensions>=0.3.0 in c:\\programdata\\anaconda3\\lib\\site-packages (from typing-inspect<1,>=0.4.0->dataclasses-json<0.7,>=0.5.7->langchain-community) (1.0.0)\n",
      "Downloading langchain_groq-0.3.2-py3-none-any.whl (15 kB)\n",
      "Downloading arxiv-2.2.0-py3-none-any.whl (11 kB)\n",
      "Using cached feedparser-6.0.11-py3-none-any.whl (81 kB)\n",
      "Using cached groq-0.23.1-py3-none-any.whl (127 kB)\n",
      "Installing collected packages: sgmllib3k, feedparser, wikipedia, arxiv, groq, langchain-groq\n",
      "Successfully installed arxiv-2.2.0 feedparser-6.0.11 groq-0.23.1 langchain-groq-0.3.2 sgmllib3k-1.0.0 wikipedia-1.4.0\n",
      "Note: you may need to restart the kernel to use updated packages.\n"
     ]
    }
   ],
   "source": [
    "pip install pydantic langchain langgraph langchain-core langchain-community python-dotenv langchain-groq arxiv wikipedia"
   ]
  },
  {
   "cell_type": "code",
   "execution_count": 6,
   "id": "aa27cb47",
   "metadata": {},
   "outputs": [],
   "source": [
    "from langchain_community.tools import ArxivQueryRun, WikipediaQueryRun\n",
    "from langchain_community.utilities import WikipediaAPIWrapper, ArxivAPIWrapper\n"
   ]
  },
  {
   "cell_type": "markdown",
   "id": "ecc8d732",
   "metadata": {},
   "source": [
    "# Creating a Tools"
   ]
  },
  {
   "cell_type": "code",
   "execution_count": 7,
   "id": "dbe1fb5d",
   "metadata": {},
   "outputs": [
    {
     "name": "stdout",
     "output_type": "stream",
     "text": [
      "arxiv\n"
     ]
    }
   ],
   "source": [
    "api_wrapper_arxiv = ArxivAPIWrapper(top_k_results=2, doc_content_chars_max=500)\n",
    "arxiv = ArxivQueryRun(api_wrapper=api_wrapper_arxiv, description=\"Search for papers on arXiv.org\")\n",
    "print(arxiv.name)"
   ]
  },
  {
   "cell_type": "code",
   "execution_count": 8,
   "id": "5a6c7602",
   "metadata": {},
   "outputs": [
    {
     "data": {
      "text/plain": [
       "\"Published: 2024-07-22\\nTitle: Attention Is All You Need But You Don't Need All Of It For Inference of Large Language Models\\nAuthors: Georgy Tyukin, Gbetondji J-S Dovonon, Jean Kaddour, Pasquale Minervini\\nSummary: The inference demand for LLMs has skyrocketed in recent months, and serving\\nmodels with low latencies remains challenging due to the quadratic input length\\ncomplexity of the attention layers. In this work, we investigate the effect of\\ndropping MLP and attention layers at inference time o\""
      ]
     },
     "execution_count": 8,
     "metadata": {},
     "output_type": "execute_result"
    }
   ],
   "source": [
    "arxiv.invoke(\"attention is all you need\")"
   ]
  },
  {
   "cell_type": "code",
   "execution_count": 9,
   "metadata": {},
   "outputs": [
    {
     "data": {
      "text/plain": [
       "'wikipedia'"
      ]
     },
     "execution_count": 9,
     "metadata": {},
     "output_type": "execute_result"
    }
   ],
   "source": [
    "api_wrapper_wiki = WikipediaAPIWrapper(top_k_results=2, doc_content_chars_max=500)\n",
    "wiki = WikipediaQueryRun(api_wrapper=api_wrapper_wiki, description=\"Search for articles on Wikipedia\")\n",
    "wiki.name"
   ]
  },
  {
   "cell_type": "code",
   "execution_count": 10,
   "metadata": {},
   "outputs": [
    {
     "data": {
      "text/plain": [
       "'Page: Attention Is All You Need\\nSummary: \"Attention Is All You Need\" is a 2017 landmark research paper in machine learning authored by eight scientists working at Google. The paper introduced a new deep learning architecture known as the transformer, based on the attention mechanism proposed in 2014 by Bahdanau et al. It is considered a foundational paper in modern artificial intelligence, and a main contributor to the AI boom, as the transformer approach has become the main architecture of a wi'"
      ]
     },
     "execution_count": 10,
     "metadata": {},
     "output_type": "execute_result"
    }
   ],
   "source": [
    "wiki.invoke(\"attention is all you need\")"
   ]
  },
  {
   "cell_type": "markdown",
   "id": "2ea8425c",
   "metadata": {},
   "source": [
    "# Integrate this"
   ]
  },
  {
   "cell_type": "code",
   "execution_count": 11,
   "id": "bd8b2a97",
   "metadata": {},
   "outputs": [],
   "source": [
    "from dotenv import load_dotenv\n",
    "load_dotenv()\n",
    "\n",
    "import os\n",
    "\n",
    "os.environ[\"TAVILY_API_KEY\"]=os.getenv(\"TAVILY_API_KEY\")\n",
    "os.environ[\"GROQ_API_KEY\"]=os.getenv(\"GROQ_API_KEY\")"
   ]
  },
  {
   "cell_type": "code",
   "execution_count": 12,
   "id": "ada2db6a",
   "metadata": {},
   "outputs": [],
   "source": [
    "### Tavily Search Tool\n",
    "from langchain_community.tools.tavily_search import TavilySearchResults\n",
    "\n",
    "tavily = TavilySearchResults()"
   ]
  },
  {
   "cell_type": "code",
   "execution_count": 13,
   "id": "8904daba",
   "metadata": {},
   "outputs": [
    {
     "data": {
      "text/plain": [
       "[{'title': 'Artificial intelligence - NBC News',\n",
       "  'url': 'https://www.nbcnews.com/artificial-intelligence',\n",
       "  'content': \"03:36\\n\\nAI startup DeepSeek causes buzz in China but draws global scrutiny over censorship and security\\n\\nNBC News NOW\\n\\n02:03\\n\\nA.I. leaders say China may have copied U.S. technology\\n\\nNightly News\\n\\n08:23\\n\\nNew Chinese A.I. tool 'DeepSeek' competes with American models\\n\\nNBC News NOW\\n\\n01:09\\n\\nChinese A.I. app shakes up Silicon Valley, causing Wall Street selloff\\n\\nNightly News\\n\\nMORE AI NEWS\\n\\nElon Musk's AI startup acquires X in deal that values social media platform at $33 billion [...] Nightly News\\n\\n02:20\\n\\nCollege students warn of privacy risks from smart glasses\\n\\nNightly News\\n\\n03:15\\n\\nHarvard professor uses AI to replicate himself for tutor experiment\\n\\nNBC News NOW\\n\\n02:35\\n\\nMan files complaint after ChatGPT falsely claimed he murdered his children\\n\\nNBC News NOW\\n\\n02:54\\n\\nA.I. chatbots becoming popular but worry privacy advocates\\n\\nNightly News\\n\\n03:15\\n\\nChristie's begins AI art auction amid backlash\\n\\nNBC News NOW\\n\\n02:16\\n\\nVance says U.S. will be the ‘gold standard’ of AI technology [...] Profile\\n\\nSections\\n\\nLocal\\n\\ntv\\n\\nFeatured\\n\\nMore From NBC\\n\\nFollow NBC News\\n\\nnews Alerts\\n\\nThere are no new alerts at this time\\n\\nARTIFICIAL INTELLIGENCE\\n\\nThe latest news and top stories on artificial intelligence, including ChatGPT, AI Chatbot and Bard.\\n\\nChina's robots race against humans — and their U.S. counterparts\\n\\nViral AI-made art trends are making artists even more worried about their futures\\n\\nAI NEWS\\n\\nArtificial intelligence\",\n",
       "  'score': 0.7116118},\n",
       " {'title': 'Artificial Intelligence News - ScienceDaily',\n",
       "  'url': 'https://www.sciencedaily.com/news/computers_math/artificial_intelligence/',\n",
       "  'content': 'Thursday, February 13, 2025\\n\\nMonday, February 10, 2025\\n\\nMonday, February 3, 2025\\n\\nWednesday, January 29, 2025\\n\\nTuesday, January 28, 2025\\n\\nMonday, January 27, 2025\\n\\nTuesday, January 21, 2025\\n\\nThursday, January 16, 2025\\n\\nWednesday, January 15, 2025\\n\\nTuesday, January 14, 2025\\n\\nThursday, January 9, 2025\\n\\nWednesday, January 8, 2025\\n\\nMonday, January 6, 2025\\n\\nThursday, January 2, 2025\\n\\nFriday, December 27, 2024\\n\\nThursday, December 26, 2024\\n\\nThursday, December 19, 2024\\n\\nWednesday, December 18, 2024 [...] Artificial Intelligence News\\n\\nTop Headlines\\n\\nLatest Headlines\\n\\nEarlier Headlines\\n\\nThursday, April 3, 2025\\n\\nThursday, March 27, 2025\\n\\nWednesday, March 26, 2025\\n\\nTuesday, March 25, 2025\\n\\nWednesday, March 19, 2025\\n\\nTuesday, March 18, 2025\\n\\nMonday, March 17, 2025\\n\\nThursday, March 6, 2025\\n\\nWednesday, March 5, 2025\\n\\nTuesday, March 4, 2025\\n\\nWednesday, February 26, 2025\\n\\nTuesday, February 25, 2025\\n\\nFriday, February 21, 2025\\n\\nThursday, February 20, 2025\\n\\nWednesday, February 19, 2025 [...] Tuesday, December 17, 2024\\n\\nMonday, December 16, 2024\\n\\nTuesday, December 10, 2024\\n\\nMonday, December 9, 2024\\n\\nFriday, December 6, 2024\\n\\nWednesday, December 4, 2024\\n\\nMonday, December 2, 2024\\n\\nFriday, November 29, 2024\\n\\nTuesday, November 26, 2024\\n\\nMonday, November 25, 2024\\n\\nThursday, November 21, 2024\\n\\nWednesday, November 20, 2024\\n\\nTuesday, November 19, 2024\\n\\nMonday, November 18, 2024\\n\\nSaturday, November 16, 2024\\n\\nThursday, November 14, 2024\\n\\nWednesday, November 13, 2024',\n",
       "  'score': 0.7116118},\n",
       " {'title': 'AI News | Latest AI News, Analysis & Events',\n",
       "  'url': 'https://www.artificialintelligence-news.com/',\n",
       "  'content': 'AI News reports on the latest artificial intelligence news and insights. Explore industry trends from the frontline of AI.',\n",
       "  'score': 0.650934},\n",
       " {'title': 'Artificial Intelligence - Latest AI News and Analysis - WSJ.com',\n",
       "  'url': 'https://www.wsj.com/tech/ai',\n",
       "  'content': 'The latest artificial intelligence news coverage focusing on the technology, tools and the companies building AI technology.',\n",
       "  'score': 0.6383174},\n",
       " {'title': 'Latest AI news and blog posts - Google AI',\n",
       "  'url': 'https://ai.google/latest-news/',\n",
       "  'content': 'Read about the latest AI news and explore blogs for researchers, IT leaders, developers, and more.',\n",
       "  'score': 0.6364215}]"
      ]
     },
     "execution_count": 13,
     "metadata": {},
     "output_type": "execute_result"
    }
   ],
   "source": [
    "tavily.invoke(\"Provide me the recent AI news?\")"
   ]
  },
  {
   "cell_type": "code",
   "execution_count": 14,
   "id": "5100b9c3",
   "metadata": {},
   "outputs": [
    {
     "data": {
      "text/plain": [
       "AIMessage(content='', additional_kwargs={'tool_calls': [{'id': 'call_yymq', 'function': {'arguments': '{\"query\": \"machine learning\"}', 'name': 'wikipedia'}, 'type': 'function'}]}, response_metadata={'token_usage': {'completion_tokens': 157, 'prompt_tokens': 326, 'total_tokens': 483, 'completion_time': 0.381353319, 'prompt_time': 0.020283099, 'queue_time': 0.25817431199999996, 'total_time': 0.401636418}, 'model_name': 'qwen-qwq-32b', 'system_fingerprint': 'fp_3796682456', 'finish_reason': 'tool_calls', 'logprobs': None}, id='run-8c87d621-fdfb-4acc-8fd7-e47d5568ae36-0', tool_calls=[{'name': 'wikipedia', 'args': {'query': 'machine learning'}, 'id': 'call_yymq', 'type': 'tool_call'}], usage_metadata={'input_tokens': 326, 'output_tokens': 157, 'total_tokens': 483})"
      ]
     },
     "execution_count": 14,
     "metadata": {},
     "output_type": "execute_result"
    }
   ],
   "source": [
    "## combine all these tools in the list\n",
    "tools=[arxiv, wiki, tavily]\n",
    "\n",
    "## Initialize the LLM Model\n",
    "from langchain_groq import ChatGroq\n",
    "\n",
    "llm=ChatGroq(model=\"qwen-qwq-32b\")\n",
    "\n",
    "llm.invoke(\"What is AI\")\n",
    "\n",
    "\n",
    "llm_with_tools=llm.bind_tools(tools=tools)\n",
    "\n",
    "## Execute this call\n",
    "llm_with_tools.invoke(\"What is the recent news on AI?\")\n",
    "\n",
    "\n",
    "\n",
    "## Execute this call\n",
    "llm_with_tools.invoke(\"What is the latest research on quantum computing?\")\n",
    "\n",
    "\n",
    "## Execute this call\n",
    "llm_with_tools.invoke(\"What is machine learning?\")"
   ]
  },
  {
   "cell_type": "markdown",
   "id": "c1a472c1",
   "metadata": {},
   "source": [
    "# Work-Flow"
   ]
  },
  {
   "cell_type": "code",
   "execution_count": 15,
   "id": "5997b87e",
   "metadata": {},
   "outputs": [],
   "source": [
    "## State Schema\n",
    "from typing_extensions import TypedDict\n",
    "from langchain_core.messages import AnyMessage ## Human message or AI message\n",
    "from typing import Annotated  ## labelling\n",
    "from langgraph.graph.message import add_messages  ## Reducers in Langgraph"
   ]
  },
  {
   "cell_type": "code",
   "execution_count": 16,
   "id": "30ae208f",
   "metadata": {},
   "outputs": [],
   "source": [
    "class State(TypedDict):\n",
    "    messages: Annotated[list[AnyMessage], add_messages]"
   ]
  },
  {
   "cell_type": "code",
   "execution_count": 17,
   "id": "b8f38ed0",
   "metadata": {},
   "outputs": [],
   "source": [
    "### Entire Chatbot With LangGraph\n",
    "from IPython.display import Image, display\n",
    "from langgraph.graph import StateGraph, START, END\n",
    "from langgraph.prebuilt import ToolNode\n",
    "from langgraph.prebuilt import tools_condition"
   ]
  },
  {
   "cell_type": "code",
   "execution_count": 18,
   "id": "8c6d9695",
   "metadata": {},
   "outputs": [
    {
     "data": {
      "image/png": "[encoded data removed]",
      "text/plain": [
       "<IPython.core.display.Image object>"
      ]
     },
     "metadata": {},
     "output_type": "display_data"
    }
   ],
   "source": [
    "### Node definition\n",
    "def tool_calling_llm(state:State):\n",
    "    return {\"messages\":[llm_with_tools.invoke(state[\"messages\"])]}\n",
    "\n",
    "# Build graph\n",
    "builder = StateGraph(State)\n",
    "builder.add_node(\"tool_calling_llm\", tool_calling_llm)\n",
    "builder.add_node(\"tools\", ToolNode(tools))\n",
    "\n",
    "## Edgess\n",
    "builder.add_edge(START, \"tool_calling_llm\")\n",
    "builder.add_conditional_edges(\n",
    "    \"tool_calling_llm\",\n",
    "    # If the latest message (result) from assistant is a tool call -> tools_condition routes to tools\n",
    "    # If the latest message (result) from assistant is a not a tool call -> tools_condition routes to END\n",
    "    tools_condition,\n",
    ")\n",
    "builder.add_edge(\"tools\", END)\n",
    "\n",
    "graph = builder.compile()\n",
    "\n",
    "# View\n",
    "display(Image(graph.get_graph().draw_mermaid_png()))"
   ]
  },
  {
   "cell_type": "code",
   "execution_count": 19,
   "id": "238826b0",
   "metadata": {},
   "outputs": [
    {
     "name": "stdout",
     "output_type": "stream",
     "text": [
      "================================\u001b[1m Human Message \u001b[0m=================================\n",
      "\n",
      "1706.03762\n",
      "==================================\u001b[1m Ai Message \u001b[0m==================================\n",
      "Tool Calls:\n",
      "  arxiv (call_zzx8)\n",
      " Call ID: call_zzx8\n",
      "  Args:\n",
      "    query: 1706.03762\n",
      "=================================\u001b[1m Tool Message \u001b[0m=================================\n",
      "Name: arxiv\n",
      "\n",
      "Published: 2023-08-02\n",
      "Title: Attention Is All You Need\n",
      "Authors: Ashish Vaswani, Noam Shazeer, Niki Parmar, Jakob Uszkoreit, Llion Jones, Aidan N. Gomez, Lukasz Kaiser, Illia Polosukhin\n",
      "Summary: The dominant sequence transduction models are based on complex recurrent or\n",
      "convolutional neural networks in an encoder-decoder configuration. The best\n",
      "performing models also connect the encoder and decoder through an attention\n",
      "mechanism. We propose a new simple network architecture, the Transformer, base\n"
     ]
    }
   ],
   "source": [
    "messages=graph.invoke({\"messages\":\"1706.03762\"})\n",
    "for m in messages['messages']:\n",
    "    m.pretty_print()"
   ]
  },
  {
   "cell_type": "code",
   "execution_count": 20,
   "id": "e3f8fd09",
   "metadata": {},
   "outputs": [
    {
     "name": "stdout",
     "output_type": "stream",
     "text": [
      "================================\u001b[1m Human Message \u001b[0m=================================\n",
      "\n",
      "Hi My name is Krish\n",
      "==================================\u001b[1m Ai Message \u001b[0m==================================\n",
      "\n",
      "Hello Krish! Nice to meet you. How can I assist you today?\n"
     ]
    }
   ],
   "source": [
    "messages=graph.invoke({\"messages\":\"Hi My name is Krish\"})\n",
    "for m in messages['messages']:\n",
    "    m.pretty_print()"
   ]
  },
  {
   "cell_type": "code",
   "execution_count": 21,
   "id": "3ccf2746",
   "metadata": {},
   "outputs": [
    {
     "name": "stdout",
     "output_type": "stream",
     "text": [
      "================================\u001b[1m Human Message \u001b[0m=================================\n",
      "\n",
      "What is the recent AI news and then please tell me the recent research paper on quantum computing?\n",
      "==================================\u001b[1m Ai Message \u001b[0m==================================\n",
      "Tool Calls:\n",
      "  tavily_search_results_json (call_9q0x)\n",
      " Call ID: call_9q0x\n",
      "  Args:\n",
      "    query: recent AI news\n",
      "  arxiv (call_ttaa)\n",
      " Call ID: call_ttaa\n",
      "  Args:\n",
      "    query: recent quantum computing research\n",
      "=================================\u001b[1m Tool Message \u001b[0m=================================\n",
      "Name: tavily_search_results_json\n",
      "\n",
      "[{\"title\": \"The latest AI news we announced in March - Google Blog\", \"url\": \"https://blog.google/technology/ai/google-ai-updates-march-2025/\", \"content\": \"The latest AI news we announced in March\\n\\nApr 04, 2025\\n\\n[[read-time]] min read\\n\\nHere’s a recap of some of our biggest AI updates from March, including Gemini 2.5 Pro, expanded access to AI Overviews, the release of AI Mode and more.\\n\\nGeneral summary [...] March was all about expanding AI across our products to make them even more helpful. The Gemini app was upgraded to include new features like personalization, Canvas and Audio Overviews, and we made our Deep Research and Gems features available at no cost. We also added our speedy Gemini 2.0 Flash Thinking experimental model under the hood — and one-upped ourselves just a few days later by making our most intelligent AI model, Gemini 2.5 Pro (experimental), available to all Gemini users. [...] We launched three new initiatives to protect and restore nature using AI. A startup accelerator, kicking off in May 2025, includes programming, mentoring and technical support from Google. Google.org is also providing $3 million to support AI-enabled solutions for biodiversity, bioeconomy and agriculture from Brazilian nonprofits. And we released SpeciesNet, a Cloud-based, open-source AI model for identifying animal species from camera trap photos, enabling people to protect nature and\", \"score\": 0.8058924}, {\"title\": \"Artificial intelligence - NBC News\", \"url\": \"https://www.nbcnews.com/artificial-intelligence\", \"content\": \"03:36\\n\\nAI startup DeepSeek causes buzz in China but draws global scrutiny over censorship and security\\n\\nNBC News NOW\\n\\n02:03\\n\\nA.I. leaders say China may have copied U.S. technology\\n\\nNightly News\\n\\n08:23\\n\\nNew Chinese A.I. tool 'DeepSeek' competes with American models\\n\\nNBC News NOW\\n\\n01:09\\n\\nChinese A.I. app shakes up Silicon Valley, causing Wall Street selloff\\n\\nNightly News\\n\\nMORE AI NEWS\\n\\nElon Musk's AI startup acquires X in deal that values social media platform at $33 billion [...] Profile\\n\\nSections\\n\\nLocal\\n\\ntv\\n\\nFeatured\\n\\nMore From NBC\\n\\nFollow NBC News\\n\\nnews Alerts\\n\\nThere are no new alerts at this time\\n\\nARTIFICIAL INTELLIGENCE\\n\\nThe latest news and top stories on artificial intelligence, including ChatGPT, AI Chatbot and Bard.\\n\\nChina's robots race against humans — and their U.S. counterparts\\n\\nViral AI-made art trends are making artists even more worried about their futures\\n\\nAI NEWS\\n\\nArtificial intelligence [...] Nightly News\\n\\n02:20\\n\\nCollege students warn of privacy risks from smart glasses\\n\\nNightly News\\n\\n03:15\\n\\nHarvard professor uses AI to replicate himself for tutor experiment\\n\\nNBC News NOW\\n\\n02:35\\n\\nMan files complaint after ChatGPT falsely claimed he murdered his children\\n\\nNBC News NOW\\n\\n02:54\\n\\nA.I. chatbots becoming popular but worry privacy advocates\\n\\nNightly News\\n\\n03:15\\n\\nChristie's begins AI art auction amid backlash\\n\\nNBC News NOW\\n\\n02:16\\n\\nVance says U.S. will be the ‘gold standard’ of AI technology\", \"score\": 0.75355774}, {\"title\": \"Artificial Intelligence - Latest AI News and Analysis - WSJ.com\", \"url\": \"https://www.wsj.com/tech/ai\", \"content\": \"The latest artificial intelligence news coverage focusing on the technology, tools and the companies building AI technology.\", \"score\": 0.71425}, {\"title\": \"AI News & Artificial Intelligence - TechCrunch\", \"url\": \"https://techcrunch.com/category/artificial-intelligence/\", \"content\": \"Anthropic is launching a new program to study AI ‘model welfare’\\n\\nSpeak at TechCrunch Disrupt 2025: Applications now open\\n\\nDropbox adds new features to Dash, its AI-powered search tool\\n\\nThis tool estimates how much electricity your chatbot messages consume\\n\\nAdobe wants to create a robots.txt-styled indicator for images used in AI training\\n\\nAdobe releases new Firefly image generation models and a redesigned Firefly web app\\n\\nWindsurf slashes prices as competition with Cursor heats up [...] AI\\n\\nNews coverage on artificial intelligence and machine learning tech, the companies building them, and the ethical issues AI raises today. This encompasses generative AI, including large language models, text-to-image and text-to-video models; speech recognition and generation; and predictive analytics.\\n\\n\\n\\n\\n\\nMusk’s xAI Holdings is reportedly raising the second-largest private funding round ever\\n\\nAnthropic sent a takedown notice to a dev trying to reverse-engineer its coding tool [...] Topics\\n\\nLatest\\n\\nAI\\n\\nAmazon\\n\\nApps\\n\\nBiotech & Health\\n\\nClimate\\n\\nCloud Computing\\n\\nCommerce\\n\\nCrypto\\n\\nEnterprise\\n\\nEVs\\n\\nFintech\\n\\nFundraising\\n\\nGadgets\\n\\nGaming\\n\\nGoogle\\n\\nGovernment & Policy\\n\\nHardware\\n\\nInstagram\\n\\nLayoffs\\n\\nMedia & Entertainment\\n\\nMeta\\n\\nMicrosoft\\n\\nPrivacy\\n\\nRobotics\\n\\nSecurity\\n\\nSocial\\n\\nSpace\\n\\nStartups\\n\\nTikTok\\n\\nTransportation\\n\\nVenture\\n\\nMore from TechCrunch\\n\\nEvents\\n\\nStartup Battlefield\\n\\nStrictlyVC\\n\\nNewsletters\\n\\nPodcasts\\n\\nVideos\\n\\nPartner Content\\n\\nTechCrunch Brand Studio\\n\\nCrunchboard\\n\\nContact Us\", \"score\": 0.6757865}, {\"title\": \"Artificial intelligence | Massachusetts Institute of Technology\", \"url\": \"https://news.mit.edu/topic/artificial-intelligence2\", \"content\": \"New method efficiently safeguards sensitive AI training data\\n\\nThe approach maintains an AI model’s accuracy while ensuring attackers can’t extract secret information.\\n\\nApril 11, 2025\\n\\nRead full story →\\n\\nCould LLMs help design our next medicines and materials?\\n\\nA new method lets users ask, in plain language, for a new molecule with certain properties, and receive a detailed description of how to synthesize it.\\n\\nApril 9, 2025\\n\\nRead full story → [...] A faster way to solve complex planning problems\\n\\nBy eliminating redundant computations, a new data-driven method can streamline processes like scheduling trains, routing delivery drivers, or assigning airline crews.\\n\\nApril 16, 2025\\n\\nRead full story →\\n\\nTraining LLMs to self-detoxify their language\\n\\nA new method from the MIT-IBM Watson AI Lab helps large language models to steer their own responses toward safer, more ethical, value-aligned outputs.\\n\\nApril 14, 2025\\n\\nRead full story → [...] TactStyle, a system developed by CSAIL researchers, uses image prompts to replicate both the visual appearance and tactile properties of 3D models.\\n\\nApril 22, 2025\\n\\nRead full story →\\n\\nNorma Kamali is transforming the future of fashion with AI\\n\\nThe renowned designer embraces generative AI to preserve and propel her legacy.\\n\\nApril 22, 2025\\n\\nRead full story →\\n\\nMIT’s McGovern Institute is shaping brain science and improving human lives on a global scale\", \"score\": 0.6546525}]\n",
      "=================================\u001b[1m Tool Message \u001b[0m=================================\n",
      "Name: arxiv\n",
      "\n",
      "Published: 2022-04-04\n",
      "Title: Evolution of Quantum Computing: A Systematic Survey on the Use of Quantum Computing Tools\n",
      "Authors: Paramita Basak Upama, Md Jobair Hossain Faruk, Mohammad Nazim, Mohammad Masum, Hossain Shahriar, Gias Uddin, Shabir Barzanjeh, Sheikh Iqbal Ahamed, Akond Rahman\n",
      "Summary: Quantum Computing (QC) refers to an emerging paradigm that inherits and\n",
      "builds with the concepts and phenomena of Quantum Mechanic (QM) with the\n",
      "significant potential to unlock a remarkable opportunity \n"
     ]
    }
   ],
   "source": [
    "messages=graph.invoke({\"messages\":\"What is the recent AI news and then please tell me the recent research paper on quantum computing?\"})\n",
    "for m in messages['messages']:\n",
    "    m.pretty_print() "
   ]
  },
  {
   "cell_type": "code",
   "execution_count": 22,
   "id": "afb403a3",
   "metadata": {},
   "outputs": [
    {
     "data": {
      "image/png": "[encoded data removed]",
      "text/plain": [
       "<IPython.core.display.Image object>"
      ]
     },
     "metadata": {},
     "output_type": "display_data"
    },
    {
     "name": "stdout",
     "output_type": "stream",
     "text": [
      "================================\u001b[1m Human Message \u001b[0m=================================\n",
      "\n",
      "What is the recent AI news and then please tell me the recent research paper on quantum computing?\n",
      "==================================\u001b[1m Ai Message \u001b[0m==================================\n",
      "Tool Calls:\n",
      "  tavily_search_results_json (call_ptr9)\n",
      " Call ID: call_ptr9\n",
      "  Args:\n",
      "    query: recent AI news\n",
      "  arxiv (call_tgyx)\n",
      " Call ID: call_tgyx\n",
      "  Args:\n",
      "    query: quantum computing\n",
      "=================================\u001b[1m Tool Message \u001b[0m=================================\n",
      "Name: tavily_search_results_json\n",
      "\n",
      "[{\"title\": \"The latest AI news we announced in March - Google Blog\", \"url\": \"https://blog.google/technology/ai/google-ai-updates-march-2025/\", \"content\": \"The latest AI news we announced in March\\n\\nApr 04, 2025\\n\\n[[read-time]] min read\\n\\nHere’s a recap of some of our biggest AI updates from March, including Gemini 2.5 Pro, expanded access to AI Overviews, the release of AI Mode and more.\\n\\nGeneral summary [...] March was all about expanding AI across our products to make them even more helpful. The Gemini app was upgraded to include new features like personalization, Canvas and Audio Overviews, and we made our Deep Research and Gems features available at no cost. We also added our speedy Gemini 2.0 Flash Thinking experimental model under the hood — and one-upped ourselves just a few days later by making our most intelligent AI model, Gemini 2.5 Pro (experimental), available to all Gemini users. [...] We launched three new initiatives to protect and restore nature using AI. A startup accelerator, kicking off in May 2025, includes programming, mentoring and technical support from Google. Google.org is also providing $3 million to support AI-enabled solutions for biodiversity, bioeconomy and agriculture from Brazilian nonprofits. And we released SpeciesNet, a Cloud-based, open-source AI model for identifying animal species from camera trap photos, enabling people to protect nature and\", \"score\": 0.8058924}, {\"title\": \"Artificial intelligence - NBC News\", \"url\": \"https://www.nbcnews.com/artificial-intelligence\", \"content\": \"03:36\\n\\nAI startup DeepSeek causes buzz in China but draws global scrutiny over censorship and security\\n\\nNBC News NOW\\n\\n02:03\\n\\nA.I. leaders say China may have copied U.S. technology\\n\\nNightly News\\n\\n08:23\\n\\nNew Chinese A.I. tool 'DeepSeek' competes with American models\\n\\nNBC News NOW\\n\\n01:09\\n\\nChinese A.I. app shakes up Silicon Valley, causing Wall Street selloff\\n\\nNightly News\\n\\nMORE AI NEWS\\n\\nElon Musk's AI startup acquires X in deal that values social media platform at $33 billion [...] Profile\\n\\nSections\\n\\nLocal\\n\\ntv\\n\\nFeatured\\n\\nMore From NBC\\n\\nFollow NBC News\\n\\nnews Alerts\\n\\nThere are no new alerts at this time\\n\\nARTIFICIAL INTELLIGENCE\\n\\nThe latest news and top stories on artificial intelligence, including ChatGPT, AI Chatbot and Bard.\\n\\nChina's robots race against humans — and their U.S. counterparts\\n\\nViral AI-made art trends are making artists even more worried about their futures\\n\\nAI NEWS\\n\\nArtificial intelligence\", \"score\": 0.75355774}, {\"title\": \"Artificial Intelligence - Latest AI News and Analysis - WSJ.com\", \"url\": \"https://www.wsj.com/tech/ai\", \"content\": \"The latest artificial intelligence news coverage focusing on the technology, tools and the companies building AI technology.\", \"score\": 0.71425}, {\"title\": \"AI News & Artificial Intelligence - TechCrunch\", \"url\": \"https://techcrunch.com/category/artificial-intelligence/\", \"content\": \"Anthropic is launching a new program to study AI ‘model welfare’\\n\\nSpeak at TechCrunch Disrupt 2025: Applications now open\\n\\nDropbox adds new features to Dash, its AI-powered search tool\\n\\nThis tool estimates how much electricity your chatbot messages consume\\n\\nAdobe wants to create a robots.txt-styled indicator for images used in AI training\\n\\nAdobe releases new Firefly image generation models and a redesigned Firefly web app\\n\\nWindsurf slashes prices as competition with Cursor heats up [...] AI\\n\\nNews coverage on artificial intelligence and machine learning tech, the companies building them, and the ethical issues AI raises today. This encompasses generative AI, including large language models, text-to-image and text-to-video models; speech recognition and generation; and predictive analytics.\\n\\n\\n\\n\\n\\nMusk’s xAI Holdings is reportedly raising the second-largest private funding round ever\\n\\nAnthropic sent a takedown notice to a dev trying to reverse-engineer its coding tool\", \"score\": 0.6757865}, {\"title\": \"Artificial intelligence | Massachusetts Institute of Technology\", \"url\": \"https://news.mit.edu/topic/artificial-intelligence2\", \"content\": \"New method efficiently safeguards sensitive AI training data\\n\\nThe approach maintains an AI model’s accuracy while ensuring attackers can’t extract secret information.\\n\\nApril 11, 2025\\n\\nRead full story →\\n\\nCould LLMs help design our next medicines and materials?\\n\\nA new method lets users ask, in plain language, for a new molecule with certain properties, and receive a detailed description of how to synthesize it.\\n\\nApril 9, 2025\\n\\nRead full story → [...] A faster way to solve complex planning problems\\n\\nBy eliminating redundant computations, a new data-driven method can streamline processes like scheduling trains, routing delivery drivers, or assigning airline crews.\\n\\nApril 16, 2025\\n\\nRead full story →\\n\\nTraining LLMs to self-detoxify their language\\n\\nA new method from the MIT-IBM Watson AI Lab helps large language models to steer their own responses toward safer, more ethical, value-aligned outputs.\\n\\nApril 14, 2025\\n\\nRead full story → [...] TactStyle, a system developed by CSAIL researchers, uses image prompts to replicate both the visual appearance and tactile properties of 3D models.\\n\\nApril 22, 2025\\n\\nRead full story →\\n\\nNorma Kamali is transforming the future of fashion with AI\\n\\nThe renowned designer embraces generative AI to preserve and propel her legacy.\\n\\nApril 22, 2025\\n\\nRead full story →\\n\\nMIT’s McGovern Institute is shaping brain science and improving human lives on a global scale\", \"score\": 0.6546525}]\n",
      "=================================\u001b[1m Tool Message \u001b[0m=================================\n",
      "Name: arxiv\n",
      "\n",
      "Published: 2022-08-01\n",
      "Title: The Rise of Quantum Internet Computing\n",
      "Authors: Seng W. Loke\n",
      "Summary: This article highlights quantum Internet computing as referring to\n",
      "distributed quantum computing over the quantum Internet, analogous to\n",
      "(classical) Internet computing involving (classical) distributed computing over\n",
      "the (classical) Internet. Relevant to quantum Internet computing would be areas\n",
      "of study such as quantum protocols for distributed nodes using quantum\n",
      "information for computations, qua\n",
      "==================================\u001b[1m Ai Message \u001b[0m==================================\n",
      "\n",
      "Here’s a summary of the recent AI news and a relevant quantum computing research paper based on the tool responses:\n",
      "\n",
      "---\n",
      "\n",
      "### **Recent AI News (as of April 2025):**\n",
      "1. **Google AI Updates (March 2025):**  \n",
      "   Google introduced **Gemini 2.5 Pro**, their latest advanced AI model, along with new features like personalization, Canvas/Audio Overviews, and free access to Deep Research tools. They also launched initiatives to address sustainability and biodiversity using AI, including a $3M grant program and the open-source **SpeciesNet** tool for wildlife conservation.\n",
      "\n",
      "2. **Global AI Developments:**  \n",
      "   - China’s **DeepSeek** AI tool gained attention for its capabilities but faces scrutiny over censorship and security concerns.  \n",
      "   - Ethical debates continue around AI’s impact on creativity, with artists advocating for rights over AI-generated works.  \n",
      "   - MIT researchers developed methods to secure AI training data and improve ethical alignment in large language models (LLMs).\n",
      "\n",
      "3. **Industry Innovations:**  \n",
      "   - Dropbox integrated advanced AI tools like **Dash** for smarter file management.  \n",
      "   - Adobe expanded its AI tools (e.g., Firefly) for image generation and ethical AI training data practices.  \n",
      "\n",
      "---\n",
      "\n",
      "### **Recent Research Paper on Quantum Computing:**  \n",
      "**Title:** [\"The Rise of Quantum Internet Computing\"](https://doi.org/10.1109/...)  \n",
      "**Authors:** Seng W. Loke  \n",
      "**Summary:** This 2022 paper explores **quantum internet computing**, a framework for distributed quantum computing over quantum networks. It discusses protocols for secure communication, distributed quantum algorithms, and the integration of quantum nodes for advanced computations. While foundational, it sets the stage for future developments in quantum networks and their applications.  \n",
      "\n",
      "*Note:* The provided ArXiv response includes only this paper. For even more recent papers (post-2022), a broader search might be needed, but this study remains a key reference in quantum networking.\n",
      "\n",
      "Let me know if you’d like deeper insights or additional sources!\n"
     ]
    }
   ],
   "source": [
    "### Node definition\n",
    "def tool_calling_llm(state:State):\n",
    "    return {\"messages\":[llm_with_tools.invoke(state[\"messages\"])]}\n",
    "\n",
    "# Build graph\n",
    "builder = StateGraph(State)\n",
    "builder.add_node(\"tool_calling_llm\", tool_calling_llm)\n",
    "builder.add_node(\"tools\", ToolNode(tools))\n",
    "\n",
    "## Edgess\n",
    "builder.add_edge(START, \"tool_calling_llm\")\n",
    "builder.add_conditional_edges(\n",
    "    \"tool_calling_llm\",\n",
    "    # If the latest message (result) from assistant is a tool call -> tools_condition routes to tools\n",
    "    # If the latest message (result) from assistant is a not a tool call -> tools_condition routes to END\n",
    "    tools_condition,\n",
    ")\n",
    "builder.add_edge(\"tools\", \"tool_calling_llm\")\n",
    "\n",
    "graph = builder.compile()\n",
    "\n",
    "# View\n",
    "display(Image(graph.get_graph().draw_mermaid_png()))\n",
    "\n",
    "messages=graph.invoke({\"messages\":\"What is the recent AI news and then please tell me the recent research paper on quantum computing?\"})\n",
    "for m in messages['messages']:\n",
    "    m.pretty_print()"
   ]
  },
  {
   "cell_type": "code",
   "execution_count": null,
   "id": "4d8f0831",
   "metadata": {},
   "outputs": [],
   "source": []
  }
 ],
 "metadata": {
  "kernelspec": {
   "display_name": "Python 3",
   "language": "python",
   "name": "python3"
  },
  "language_info": {
   "codemirror_mode": {
    "name": "ipython",
    "version": 3
   },
   "file_extension": ".py",
   "mimetype": "text/x-python",
   "name": "python",
   "nbconvert_exporter": "python",
   "pygments_lexer": "ipython3",
   "version": "3.12.7"
  }
 },
 "nbformat": 4,
 "nbformat_minor": 5
}
